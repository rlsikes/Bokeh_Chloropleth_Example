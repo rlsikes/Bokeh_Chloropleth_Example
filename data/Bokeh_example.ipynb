{
 "cells": [
  {
   "cell_type": "code",
   "execution_count": 68,
   "metadata": {
    "collapsed": true
   },
   "outputs": [],
   "source": [
    "import numpy as np\n",
    "import pandas as pd\n",
    "data = pd.read_csv( 'C:/Users/renee/PycharmProjects/Bokeh_Chloropleth_Example/data/EC1262Z1.dat', sep='|', dtype={'ZIPCODE': 'str'})\n",
    "zip_geo = pd.read_csv('C:/Users/renee/PycharmProjects/Bokeh_Chloropleth_Example/data/Zip_location.csv')\n",
    "zip_pop = pd.read_csv('C:/Users/renee/PycharmProjects/Bokeh_Chloropleth_Example/data/population_by_zip_2010.csv', dtype={'zipcode': 'str'})\n",
    "\n",
    "\n",
    "\n"
   ]
  },
  {
   "cell_type": "code",
   "execution_count": 13,
   "metadata": {},
   "outputs": [
    {
     "name": "stdout",
     "output_type": "stream",
     "text": [
      "(2833248, 15)\nIndex(['GEOTYPE', 'ST', 'ZIPCODE', 'GEO_ID', 'GEO_TTL', 'FOOTID_GEO', 'SECTOR',\n       'NAICS2012', 'NAICS2012_TTL', 'FOOTID_NAICS', 'RCPSZFE', 'RCPSZFE_TTL',\n       'YEAR', 'ESTAB', 'ESTAB_F'],\n      dtype='object')\n(1622831, 6)\n(33144, 3)\n"
     ]
    }
   ],
   "source": [
    "print(data.shape)\n",
    "print(data.columns)\n",
    "print(zip_pop.shape)\n",
    "print(zip_geo.shape)"
   ]
  },
  {
   "cell_type": "code",
   "execution_count": 69,
   "metadata": {},
   "outputs": [
    {
     "name": "stdout",
     "output_type": "stream",
     "text": [
      "(33119, 6)\n"
     ]
    }
   ],
   "source": [
    "zip_totalpop = zip_pop[zip_pop['gender'].isnull()]\n",
    "print(zip_totalpop.shape)\n",
    "\n"
   ]
  },
  {
   "cell_type": "code",
   "execution_count": 52,
   "metadata": {},
   "outputs": [
    {
     "name": "stdout",
     "output_type": "stream",
     "text": [
      "<class 'pandas.core.frame.DataFrame'>\nRangeIndex: 2833248 entries, 0 to 2833247\nData columns (total 15 columns):\nGEOTYPE          2833248 non-null int64\nST               2833248 non-null int64\nZIPCODE          2833248 non-null object\nGEO_ID           2833248 non-null object\nGEO_TTL          2833248 non-null object\nFOOTID_GEO       0 non-null float64\nSECTOR           2833248 non-null int64\nNAICS2012        2833248 non-null int64\nNAICS2012_TTL    2833248 non-null object\nFOOTID_NAICS     0 non-null float64\nRCPSZFE          2833248 non-null int64\nRCPSZFE_TTL      2833248 non-null object\nYEAR             2833248 non-null int64\nESTAB            2833248 non-null int64\nESTAB_F          0 non-null float64\ndtypes: float64(3), int64(7), object(5)\nmemory usage: 324.2+ MB\nNone\n"
     ]
    }
   ],
   "source": [
    "print(data.info(null_counts=True))\n",
    "data.to_excel('C:/Users/renee/PycharmProjects/Bokeh_Chloropleth_Example/data/data.xlsx')"
   ]
  },
  {
   "cell_type": "code",
   "execution_count": 25,
   "metadata": {},
   "outputs": [
    {
     "name": "stdout",
     "output_type": "stream",
     "text": [
      "   GEOTYPE  ST  ZIPCODE          GEO_ID            GEO_TTL  FOOTID_GEO  \\\n0       14   1    35004  8610000US35004  35004 (MOODY, AL)         NaN   \n1       14   1    35004  8610000US35004  35004 (MOODY, AL)         NaN   \n2       14   1    35004  8610000US35004  35004 (MOODY, AL)         NaN   \n3       14   1    35004  8610000US35004  35004 (MOODY, AL)         NaN   \n4       14   1    35004  8610000US35004  35004 (MOODY, AL)         NaN   \n5       14   1    35004  8610000US35004  35004 (MOODY, AL)         NaN   \n6       14   1    35004  8610000US35004  35004 (MOODY, AL)         NaN   \n7       14   1    35004  8610000US35004  35004 (MOODY, AL)         NaN   \n8       14   1    35004  8610000US35004  35004 (MOODY, AL)         NaN   \n9       14   1    35004  8610000US35004  35004 (MOODY, AL)         NaN   \n\n   SECTOR  NAICS2012                      NAICS2012_TTL  FOOTID_NAICS  \\\n0      62         62  Health care and social assistance           NaN   \n1      62         62  Health care and social assistance           NaN   \n2      62         62  Health care and social assistance           NaN   \n3      62         62  Health care and social assistance           NaN   \n4      62         62  Health care and social assistance           NaN   \n5      62         62  Health care and social assistance           NaN   \n6      62         62  Health care and social assistance           NaN   \n7      62         62  Health care and social assistance           NaN   \n8      62        621    Ambulatory health care services           NaN   \n9      62        621    Ambulatory health care services           NaN   \n\n   RCPSZFE                                        RCPSZFE_TTL  YEAR  ESTAB  \\\n0        1                                 All establishments  2012     13   \n1        2        Establishments operated for the entire year  2012     10   \n2      114  Establishments operated entire year with sales...  2012      1   \n3      123  Establishments operated entire year with sales...  2012      1   \n4      125  Establishments operated entire year with sales...  2012      2   \n5      131  Establishments operated entire year with sales...  2012      1   \n6      132  Establishments operated entire year with sales...  2012      5   \n7      998    Establishments not operated for the entire year  2012      3   \n8        1                                 All establishments  2012     11   \n9        2        Establishments operated for the entire year  2012      9   \n\n   ESTAB_F  \n0      NaN  \n1      NaN  \n2      NaN  \n3      NaN  \n4      NaN  \n5      NaN  \n6      NaN  \n7      NaN  \n8      NaN  \n9      NaN  \n{'Child day care services', 'Medical and diagnostic laboratories', 'Offices of all other miscellaneous health practitioners', 'All other miscellaneous ambulatory health care services', 'Ambulance services', 'Psychiatric and substance abuse hospitals', 'Offices of physicians, mental health specialists', 'Offices of dentists', 'Residential mental health and substance abuse facilities', 'Medical laboratories', 'HMO medical centers', 'Outpatient care centers', 'Offices of physicians (except mental health specialists)', 'All other outpatient care centers', 'Offices of podiatrists', 'Nursing care facilities (skilled nursing facilities)', 'Residential intellectual and developmental disability, mental health, and substance abuse facilities', 'Offices of all other health practitioners', 'Community housing services', 'Kidney dialysis centers', 'Temporary shelters', 'Continuing care retirement communities and assisted living facilities for the elderly', 'Family planning centers', 'Community food and housing, and emergency and other relief services', 'Offices of optometrists', 'Other ambulatory health care services', 'Nursing and residential care facilities', 'Health care and social assistance', 'Services for the elderly and persons with disabilities', 'Offices of other health practitioners', 'Ambulatory health care services', 'Diagnostic imaging centers', 'Residential intellectual and developmental disability facilities', 'Other individual and family services', 'Home health care services', 'Community food services', 'Emergency and other relief services', 'Vocational rehabilitation services', 'Offices of physicians', 'Offices of physical, occupational and speech therapists, and audiologists', 'Other residential care facilities', 'Individual and family services', 'Freestanding ambulatory surgical and emergency centers', 'Hospitals', 'General medical and surgical hospitals', 'Specialty (except psychiatric and substance abuse) hospitals', 'Assisted living facilities for the elderly', 'Child and youth services', 'Outpatient mental health and substance abuse centers', 'All other ambulatory health care services', 'Offices of chiropractors', 'Other community housing services', 'Continuing care retirement communities', 'Offices of mental health practitioners (except physicians)', 'Social assistance', 'Other outpatient care centers', 'Blood and organ banks'}\n"
     ]
    },
    {
     "name": "stdout",
     "output_type": "stream",
     "text": [
      "57\n"
     ]
    },
    {
     "name": "stdout",
     "output_type": "stream",
     "text": [
      "{623110, 622110, 621610, 621111, 621112, 62, 624190, 6211, 6212, 6213, 6214, 6215, 6216, 6219, 6221, 6222, 6223, 624210, 6231, 6232, 6233, 624221, 6239, 6241, 6242, 6243, 6244, 624229, 624230, 623210, 621, 622, 623, 624, 623220, 622210, 621210, 62111, 62121, 62131, 62132, 62133, 62134, 624310, 62139, 62141, 62142, 62149, 62151, 623311, 623312, 62161, 622310, 62191, 62199, 621310, 62211, 621320, 62221, 621330, 62231, 624410, 621340, 621391, 621910, 621399, 621410, 62311, 621420, 62321, 62322, 623990, 62331, 621991, 621999, 621491, 621492, 621493, 621498, 62399, 621511, 621512, 62411, 62412, 62419, 62421, 62422, 62423, 62431, 62441, 624110, 624120}\n"
     ]
    }
   ],
   "source": [
    "print(data.head(10))\n",
    "print(set(data.NAICS2012_TTL))\n",
    "print(len(set(data.NAICS2012_TTL)))\n",
    "\n",
    "print(set(data.NAICS2012))"
   ]
  },
  {
   "cell_type": "code",
   "execution_count": 71,
   "metadata": {},
   "outputs": [
    {
     "name": "stderr",
     "output_type": "stream",
     "text": [
      "C:\\Users\\renee\\Anaconda3\\lib\\site-packages\\ipykernel_launcher.py:2: SettingWithCopyWarning: \nA value is trying to be set on a copy of a slice from a DataFrame.\nTry using .loc[row_indexer,col_indexer] = value instead\n\nSee the caveats in the documentation: http://pandas.pydata.org/pandas-docs/stable/indexing.html#indexing-view-versus-copy\n  \n"
     ]
    }
   ],
   "source": [
    "data['ZIPCODE'] = [str.zfill(x,5) for x in data['ZIPCODE']]\n",
    "zip_totalpop['zipcode'] = [str.zfill(x,5) for x in zip_totalpop['zipcode']]\n",
    "\n",
    "data_filtered = data.loc[data['RCPSZFE'] == 1]\n"
   ]
  },
  {
   "cell_type": "code",
   "execution_count": 73,
   "metadata": {},
   "outputs": [
    {
     "name": "stdout",
     "output_type": "stream",
     "text": [
      "(688144, 15)\nIndex(['GEOTYPE', 'ST', 'ZIPCODE', 'GEO_ID', 'GEO_TTL', 'FOOTID_GEO', 'SECTOR',\n       'NAICS2012', 'NAICS2012_TTL', 'FOOTID_NAICS', 'RCPSZFE', 'RCPSZFE_TTL',\n       'YEAR', 'ESTAB', 'ESTAB_F'],\n      dtype='object')\n"
     ]
    },
    {
     "name": "stdout",
     "output_type": "stream",
     "text": [
      "(667150, 21)\n"
     ]
    }
   ],
   "source": [
    "print(data_filtered.shape)\n",
    "print(data_filtered.columns)\n",
    "\n",
    "data_pop = data_filtered.merge(zip_totalpop, left_on='ZIPCODE', right_on='zipcode')\n",
    "print(data_pop.shape)"
   ]
  },
  {
   "cell_type": "code",
   "execution_count": 50,
   "metadata": {},
   "outputs": [
    {
     "name": "stdout",
     "output_type": "stream",
     "text": [
      "            ESTAB  GEOTYPE      NAICS2012     RCPSZFE  SECTOR    ST    YEAR\nZIPCODE                                                                    \n01001    3.489011     14.0  214961.302198  140.824176    62.0  25.0  2012.0\n01002    4.118705     14.0  229739.413669  106.845324    62.0  25.0  2012.0\n01003    1.250000     14.0  172500.250000   45.000000    62.0  25.0  2012.0\n01005    1.438356     14.0  170518.164384   49.958904    62.0  25.0  2012.0\n01007    2.733813     14.0  193744.661871  124.827338    62.0  25.0  2012.0\n01010    1.153846     14.0  159307.346154   50.346154    62.0  25.0  2012.0\n01011    1.000000     14.0  138023.200000   42.666667    62.0  25.0  2012.0\n01012    1.730769     14.0  160022.269231   49.961538    62.0  25.0  2012.0\n01013    2.337662     14.0  218125.766234   87.006494    62.0  25.0  2012.0\n01020    3.648649     14.0  211527.162162  129.945946    62.0  25.0  2012.0\n01021    1.071429     14.0  148270.142857   43.285714    62.0  25.0  2012.0\n01022    2.282609     14.0  165640.413043   61.717391    62.0  25.0  2012.0\n01027    2.882653     14.0  218068.959184  126.755102    62.0  25.0  2012.0\n01028    4.435897     14.0  218471.558974   93.723077    62.0  25.0  2012.0\n01030    2.500000     14.0  200581.118182   95.354545    62.0  25.0  2012.0\n01032    1.071429     14.0  148365.285714   44.714286    62.0  25.0  2012.0\n01033    1.444444     14.0  153890.177778  239.844444    62.0  25.0  2012.0\n01035    2.832168     14.0  193278.090909  115.860140    62.0  25.0  2012.0\n01036    1.176471     14.0  162714.372549   48.431373    62.0  25.0  2012.0\n01038    1.250000     14.0  172831.522727  152.250000    62.0  25.0  2012.0\n01039    1.071429     14.0  148153.464286   46.678571    62.0  25.0  2012.0\n01040    5.726257     14.0  240816.840782  113.276536    62.0  25.0  2012.0\n01041    1.153846     14.0  159281.153846   50.346154    62.0  25.0  2012.0\n01050    1.153846     14.0  159356.730769   50.346154    62.0  25.0  2012.0\n01053    1.549296     14.0  184113.366197  151.338028    62.0  25.0  2012.0\n01054    1.527778     14.0  153863.416667  173.888889    62.0  25.0  2012.0\n01056    2.759740     14.0  209515.331169  110.142857    62.0  25.0  2012.0\n01057    1.525424     14.0  164111.576271   58.627119    62.0  25.0  2012.0\n01059    1.153846     14.0  160024.923077   50.346154    62.0  25.0  2012.0\n01060    5.739645     14.0  240906.766272  124.769231    62.0  25.0  2012.0\n...           ...      ...            ...         ...     ...   ...     ...\n99758    1.041667     14.0  144198.625000  232.458333    62.0   2.0  2012.0\n99760    1.250000     14.0  172797.125000   54.208333    62.0   2.0  2012.0\n99762    1.638655     14.0  203130.008403   52.890756    62.0   2.0  2012.0\n99769    1.000000     14.0  138023.200000   45.000000    62.0   2.0  2012.0\n99771    1.000000     14.0  138023.200000   44.666667    62.0   2.0  2012.0\n99772    1.041667     14.0  144056.583333  236.000000    62.0   2.0  2012.0\n99778    1.000000     14.0  138023.200000   42.666667    62.0   2.0  2012.0\n99780    1.224490     14.0  169180.857143   49.897959    62.0   2.0  2012.0\n99783    1.000000     14.0  138023.200000   42.666667    62.0   2.0  2012.0\n99784    1.000000     14.0  138023.200000   44.666667    62.0   2.0  2012.0\n99785    1.000000     14.0  138023.200000   44.666667    62.0   2.0  2012.0\n99801    5.426667     14.0  242783.416000  123.034667    62.0   2.0  2012.0\n99802    1.000000     14.0  138691.800000   42.000000    62.0   2.0  2012.0\n99803    1.111111     14.0  153654.027778  175.972222    62.0   2.0  2012.0\n99820    1.363636     14.0  146749.363636   59.303030    62.0   2.0  2012.0\n99824    1.000000     14.0  138756.200000   44.666667    62.0   2.0  2012.0\n99826    1.000000     14.0  138756.200000  499.500000    62.0   2.0  2012.0\n99827    1.597938     14.0  178151.505155  141.092784    62.0   2.0  2012.0\n99829    1.000000     14.0  138711.800000   42.000000    62.0   2.0  2012.0\n99830    1.071429     14.0  148292.321429   46.500000    62.0   2.0  2012.0\n99832    1.000000     14.0  138108.800000   42.000000    62.0   2.0  2012.0\n99833    1.436170     14.0  183640.968085   53.531915    62.0   2.0  2012.0\n99835    2.264151     14.0  208235.647799  108.792453    62.0   2.0  2012.0\n99840    1.282051     14.0  159804.564103  235.871795    62.0   2.0  2012.0\n99901    2.264957     14.0  212397.324786   93.192308    62.0   2.0  2012.0\n99919    1.000000     14.0  138108.800000   42.666667    62.0   2.0  2012.0\n99921    1.388889     14.0  192026.851852   48.074074    62.0   2.0  2012.0\n99922    1.041667     14.0  144112.000000  234.750000    62.0   2.0  2012.0\n99925    1.071429     14.0  148281.607143   46.500000    62.0   2.0  2012.0\n99929    1.666667     14.0  175308.000000   51.444444    62.0   2.0  2012.0\n\n[25707 rows x 7 columns]\n"
     ]
    }
   ],
   "source": [
    ""
   ]
  },
  {
   "cell_type": "code",
   "execution_count": 65,
   "metadata": {},
   "outputs": [
    {
     "name": "stdout",
     "output_type": "stream",
     "text": [
      "Index(['population', 'minimum_age', 'maximum_age', 'gender', 'zipcode',\n       'geo_id'],\n      dtype='object')\n"
     ]
    }
   ],
   "source": [
    "print(zip_totalpop.columns)"
   ]
  },
  {
   "cell_type": "code",
   "execution_count": null,
   "metadata": {},
   "outputs": [],
   "source": []
  },
  {
   "cell_type": "code",
   "execution_count": null,
   "metadata": {},
   "outputs": [],
   "source": []
  },
  {
   "cell_type": "code",
   "execution_count": null,
   "metadata": {},
   "outputs": [],
   "source": []
  }
 ],
 "metadata": {
  "kernelspec": {
   "display_name": "Python 2",
   "language": "python",
   "name": "python2"
  },
  "language_info": {
   "codemirror_mode": {
    "name": "ipython",
    "version": 2
   },
   "file_extension": ".py",
   "mimetype": "text/x-python",
   "name": "python",
   "nbconvert_exporter": "python",
   "pygments_lexer": "ipython2",
   "version": "2.7.6"
  }
 },
 "nbformat": 4,
 "nbformat_minor": 0
}
