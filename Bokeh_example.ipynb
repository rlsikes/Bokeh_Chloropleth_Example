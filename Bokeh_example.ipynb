{
 "cells": [
  {
   "cell_type": "code",
   "execution_count": 22,
   "metadata": {
    "collapsed": true
   },
   "outputs": [],
   "source": [
    "import numpy as np\n",
    "import pandas as pd\n",
    "data = pd.read_csv( 'C:/Users/renee/PycharmProjects/Bokeh_Chloropleth_Example/data/EC1262Z1.dat', sep='|', dtype={'ZIPCODE': 'str'})\n",
    "zip_geo = pd.read_csv('C:/Users/renee/PycharmProjects/Bokeh_Chloropleth_Example/data/Zip_location.csv', dtype={'ZIP': 'str'})\n",
    "zip_pop = pd.read_csv('C:/Users/renee/PycharmProjects/Bokeh_Chloropleth_Example/data/population_by_zip_2010.csv', dtype={'zipcode': 'str'})\n",
    "\n",
    "\n",
    "\n"
   ]
  },
  {
   "cell_type": "code",
   "execution_count": 3,
   "metadata": {},
   "outputs": [
    {
     "name": "stdout",
     "output_type": "stream",
     "text": [
      "(2833248, 15)\nIndex(['GEOTYPE', 'ST', 'ZIPCODE', 'GEO_ID', 'GEO_TTL', 'FOOTID_GEO', 'SECTOR',\n       'NAICS2012', 'NAICS2012_TTL', 'FOOTID_NAICS', 'RCPSZFE', 'RCPSZFE_TTL',\n       'YEAR', 'ESTAB', 'ESTAB_F'],\n      dtype='object')\n(1622831, 6)\n(33144, 3)\n"
     ]
    }
   ],
   "source": [
    "print(data.shape)\n",
    "print(data.columns)\n",
    "print(zip_pop.shape)\n",
    "print(zip_geo.shape)"
   ]
  },
  {
   "cell_type": "code",
   "execution_count": 4,
   "metadata": {},
   "outputs": [
    {
     "name": "stdout",
     "output_type": "stream",
     "text": [
      "(33119, 6)\n"
     ]
    }
   ],
   "source": [
    "zip_totalpop = zip_pop[zip_pop['gender'].isnull()]\n",
    "print(zip_totalpop.shape)\n",
    "\n"
   ]
  },
  {
   "cell_type": "code",
   "execution_count": 5,
   "metadata": {},
   "outputs": [
    {
     "name": "stdout",
     "output_type": "stream",
     "text": [
      "<class 'pandas.core.frame.DataFrame'>\nRangeIndex: 2833248 entries, 0 to 2833247\nData columns (total 15 columns):\nGEOTYPE          2833248 non-null int64\nST               2833248 non-null int64\nZIPCODE          2833248 non-null object\nGEO_ID           2833248 non-null object\nGEO_TTL          2833248 non-null object\nFOOTID_GEO       0 non-null float64\nSECTOR           2833248 non-null int64\nNAICS2012        2833248 non-null int64\nNAICS2012_TTL    2833248 non-null object\nFOOTID_NAICS     0 non-null float64\nRCPSZFE          2833248 non-null int64\nRCPSZFE_TTL      2833248 non-null object\nYEAR             2833248 non-null int64\nESTAB            2833248 non-null int64\nESTAB_F          0 non-null float64\ndtypes: float64(3), int64(7), object(5)\nmemory usage: 324.2+ MB\nNone\n"
     ]
    }
   ],
   "source": [
    "print(data.info(null_counts=True))\n",
    "#data.to_excel('C:/Users/renee/PycharmProjects/Bokeh_Chloropleth_Example/data/data.xlsx')"
   ]
  },
  {
   "cell_type": "code",
   "execution_count": 6,
   "metadata": {},
   "outputs": [
    {
     "name": "stdout",
     "output_type": "stream",
     "text": [
      "   GEOTYPE  ST ZIPCODE          GEO_ID            GEO_TTL  FOOTID_GEO  SECTOR  \\\n0       14   1   35004  8610000US35004  35004 (MOODY, AL)         NaN      62   \n1       14   1   35004  8610000US35004  35004 (MOODY, AL)         NaN      62   \n2       14   1   35004  8610000US35004  35004 (MOODY, AL)         NaN      62   \n3       14   1   35004  8610000US35004  35004 (MOODY, AL)         NaN      62   \n4       14   1   35004  8610000US35004  35004 (MOODY, AL)         NaN      62   \n5       14   1   35004  8610000US35004  35004 (MOODY, AL)         NaN      62   \n6       14   1   35004  8610000US35004  35004 (MOODY, AL)         NaN      62   \n7       14   1   35004  8610000US35004  35004 (MOODY, AL)         NaN      62   \n8       14   1   35004  8610000US35004  35004 (MOODY, AL)         NaN      62   \n9       14   1   35004  8610000US35004  35004 (MOODY, AL)         NaN      62   \n\n   NAICS2012                      NAICS2012_TTL  FOOTID_NAICS  RCPSZFE  \\\n0         62  Health care and social assistance           NaN        1   \n1         62  Health care and social assistance           NaN        2   \n2         62  Health care and social assistance           NaN      114   \n3         62  Health care and social assistance           NaN      123   \n4         62  Health care and social assistance           NaN      125   \n5         62  Health care and social assistance           NaN      131   \n6         62  Health care and social assistance           NaN      132   \n7         62  Health care and social assistance           NaN      998   \n8        621    Ambulatory health care services           NaN        1   \n9        621    Ambulatory health care services           NaN        2   \n\n                                         RCPSZFE_TTL  YEAR  ESTAB  ESTAB_F  \n0                                 All establishments  2012     13      NaN  \n1        Establishments operated for the entire year  2012     10      NaN  \n2  Establishments operated entire year with sales...  2012      1      NaN  \n3  Establishments operated entire year with sales...  2012      1      NaN  \n4  Establishments operated entire year with sales...  2012      2      NaN  \n5  Establishments operated entire year with sales...  2012      1      NaN  \n6  Establishments operated entire year with sales...  2012      5      NaN  \n7    Establishments not operated for the entire year  2012      3      NaN  \n8                                 All establishments  2012     11      NaN  \n9        Establishments operated for the entire year  2012      9      NaN  \n"
     ]
    },
    {
     "name": "stdout",
     "output_type": "stream",
     "text": [
      "{'Other ambulatory health care services', 'Nursing care facilities (skilled nursing facilities)', 'Child day care services', 'Assisted living facilities for the elderly', 'Residential intellectual and developmental disability, mental health, and substance abuse facilities', 'Home health care services', 'All other outpatient care centers', 'Offices of other health practitioners', 'Continuing care retirement communities', 'Family planning centers', 'Other individual and family services', 'HMO medical centers', 'Offices of all other health practitioners', 'Health care and social assistance', 'Temporary shelters', 'Offices of physical, occupational and speech therapists, and audiologists', 'Offices of physicians (except mental health specialists)', 'Community housing services', 'Medical laboratories', 'Nursing and residential care facilities', 'All other ambulatory health care services', 'General medical and surgical hospitals', 'Emergency and other relief services', 'Offices of mental health practitioners (except physicians)', 'Offices of physicians', 'Vocational rehabilitation services', 'Psychiatric and substance abuse hospitals', 'All other miscellaneous ambulatory health care services', 'Blood and organ banks', 'Offices of chiropractors', 'Community food and housing, and emergency and other relief services', 'Continuing care retirement communities and assisted living facilities for the elderly', 'Freestanding ambulatory surgical and emergency centers', 'Hospitals', 'Outpatient mental health and substance abuse centers', 'Diagnostic imaging centers', 'Residential mental health and substance abuse facilities', 'Other residential care facilities', 'Specialty (except psychiatric and substance abuse) hospitals', 'Offices of dentists', 'Services for the elderly and persons with disabilities', 'Social assistance', 'Ambulance services', 'Kidney dialysis centers', 'Offices of podiatrists', 'Other community housing services', 'Offices of optometrists', 'Outpatient care centers', 'Community food services', 'Medical and diagnostic laboratories', 'Individual and family services', 'Other outpatient care centers', 'Ambulatory health care services', 'Offices of all other miscellaneous health practitioners', 'Offices of physicians, mental health specialists', 'Residential intellectual and developmental disability facilities', 'Child and youth services'}\n57\n{623110, 622110, 621610, 621111, 621112, 62, 624190, 6211, 6212, 6213, 6214, 6215, 6216, 6219, 6221, 6222, 6223, 624210, 6231, 6232, 6233, 624221, 6239, 6241, 6242, 6243, 6244, 624229, 624230, 623210, 621, 622, 623, 624, 623220, 622210, 621210, 62111, 62121, 62131, 62132, 62133, 62134, 624310, 62139, 62141, 62142, 62149, 62151, 623311, 623312, 62161, 622310, 62191, 62199, 621310, 62211, 621320, 62221, 621330, 62231, 624410, 621340, 621391, 621910, 621399, 621410, 62311, 621420, 62321, 62322, 623990, 62331, 621991, 621999, 621491, 621492, 621493, 621498, 62399, 621511, 621512, 62411, 62412, 62419, 62421, 62422, 62423, 62431, 62441, 624110, 624120}\n"
     ]
    }
   ],
   "source": [
    "print(data.head(10))\n",
    "print(set(data.NAICS2012_TTL))\n",
    "print(len(set(data.NAICS2012_TTL)))\n",
    "\n",
    "print(set(data.NAICS2012))"
   ]
  },
  {
   "cell_type": "code",
   "execution_count": 21,
   "metadata": {},
   "outputs": [
    {
     "name": "stderr",
     "output_type": "stream",
     "text": [
      "C:\\Users\\renee\\Anaconda3\\lib\\site-packages\\ipykernel_launcher.py:2: SettingWithCopyWarning: \nA value is trying to be set on a copy of a slice from a DataFrame.\nTry using .loc[row_indexer,col_indexer] = value instead\n\nSee the caveats in the documentation: http://pandas.pydata.org/pandas-docs/stable/indexing.html#indexing-view-versus-copy\n  \n"
     ]
    },
    {
     "ename": "TypeError",
     "evalue": "descriptor 'zfill' requires a 'str' object but received a 'int'",
     "traceback": [
      "\u001b[1;31m---------------------------------------------------------------------------\u001b[0m",
      "\u001b[1;31mTypeError\u001b[0m                                 Traceback (most recent call last)",
      "\u001b[1;32m<ipython-input-21-1a3a2dfd7f10>\u001b[0m in \u001b[0;36m<module>\u001b[1;34m()\u001b[0m\n\u001b[0;32m      1\u001b[0m \u001b[0mdata\u001b[0m\u001b[1;33m[\u001b[0m\u001b[1;34m'ZIPCODE'\u001b[0m\u001b[1;33m]\u001b[0m \u001b[1;33m=\u001b[0m \u001b[1;33m[\u001b[0m\u001b[0mstr\u001b[0m\u001b[1;33m.\u001b[0m\u001b[0mzfill\u001b[0m\u001b[1;33m(\u001b[0m\u001b[0mx\u001b[0m\u001b[1;33m,\u001b[0m\u001b[1;36m5\u001b[0m\u001b[1;33m)\u001b[0m \u001b[1;32mfor\u001b[0m \u001b[0mx\u001b[0m \u001b[1;32min\u001b[0m \u001b[0mdata\u001b[0m\u001b[1;33m[\u001b[0m\u001b[1;34m'ZIPCODE'\u001b[0m\u001b[1;33m]\u001b[0m\u001b[1;33m]\u001b[0m\u001b[1;33m\u001b[0m\u001b[0m\n\u001b[0;32m      2\u001b[0m \u001b[0mzip_totalpop\u001b[0m\u001b[1;33m[\u001b[0m\u001b[1;34m'zipcode'\u001b[0m\u001b[1;33m]\u001b[0m \u001b[1;33m=\u001b[0m \u001b[1;33m[\u001b[0m\u001b[0mstr\u001b[0m\u001b[1;33m.\u001b[0m\u001b[0mzfill\u001b[0m\u001b[1;33m(\u001b[0m\u001b[0mx\u001b[0m\u001b[1;33m,\u001b[0m\u001b[1;36m5\u001b[0m\u001b[1;33m)\u001b[0m \u001b[1;32mfor\u001b[0m \u001b[0mx\u001b[0m \u001b[1;32min\u001b[0m \u001b[0mzip_totalpop\u001b[0m\u001b[1;33m[\u001b[0m\u001b[1;34m'zipcode'\u001b[0m\u001b[1;33m]\u001b[0m\u001b[1;33m]\u001b[0m\u001b[1;33m\u001b[0m\u001b[0m\n\u001b[1;32m----> 3\u001b[1;33m \u001b[0mzip_geo\u001b[0m\u001b[1;33m[\u001b[0m\u001b[1;34m'ZIP'\u001b[0m\u001b[1;33m]\u001b[0m \u001b[1;33m=\u001b[0m \u001b[1;33m[\u001b[0m\u001b[0mstr\u001b[0m\u001b[1;33m.\u001b[0m\u001b[0mzfill\u001b[0m\u001b[1;33m(\u001b[0m\u001b[0mx\u001b[0m\u001b[1;33m,\u001b[0m\u001b[1;36m5\u001b[0m\u001b[1;33m)\u001b[0m \u001b[1;32mfor\u001b[0m \u001b[0mx\u001b[0m \u001b[1;32min\u001b[0m \u001b[0mzip_geo\u001b[0m\u001b[1;33m[\u001b[0m\u001b[1;34m'ZIP'\u001b[0m\u001b[1;33m]\u001b[0m\u001b[1;33m]\u001b[0m\u001b[1;33m\u001b[0m\u001b[0m\n\u001b[0m\u001b[0;32m      4\u001b[0m \u001b[0mzip_totalpop_filtered\u001b[0m \u001b[1;33m=\u001b[0m \u001b[0mzip_totalpop\u001b[0m\u001b[1;33m[\u001b[0m\u001b[1;33m[\u001b[0m\u001b[1;34m'zipcode'\u001b[0m\u001b[1;33m,\u001b[0m \u001b[1;34m'population'\u001b[0m\u001b[1;33m]\u001b[0m\u001b[1;33m]\u001b[0m\u001b[1;33m\u001b[0m\u001b[0m\n\u001b[0;32m      5\u001b[0m \u001b[1;33m\u001b[0m\u001b[0m\n",
      "\u001b[1;32m<ipython-input-21-1a3a2dfd7f10>\u001b[0m in \u001b[0;36m<listcomp>\u001b[1;34m(.0)\u001b[0m\n\u001b[0;32m      1\u001b[0m \u001b[0mdata\u001b[0m\u001b[1;33m[\u001b[0m\u001b[1;34m'ZIPCODE'\u001b[0m\u001b[1;33m]\u001b[0m \u001b[1;33m=\u001b[0m \u001b[1;33m[\u001b[0m\u001b[0mstr\u001b[0m\u001b[1;33m.\u001b[0m\u001b[0mzfill\u001b[0m\u001b[1;33m(\u001b[0m\u001b[0mx\u001b[0m\u001b[1;33m,\u001b[0m\u001b[1;36m5\u001b[0m\u001b[1;33m)\u001b[0m \u001b[1;32mfor\u001b[0m \u001b[0mx\u001b[0m \u001b[1;32min\u001b[0m \u001b[0mdata\u001b[0m\u001b[1;33m[\u001b[0m\u001b[1;34m'ZIPCODE'\u001b[0m\u001b[1;33m]\u001b[0m\u001b[1;33m]\u001b[0m\u001b[1;33m\u001b[0m\u001b[0m\n\u001b[0;32m      2\u001b[0m \u001b[0mzip_totalpop\u001b[0m\u001b[1;33m[\u001b[0m\u001b[1;34m'zipcode'\u001b[0m\u001b[1;33m]\u001b[0m \u001b[1;33m=\u001b[0m \u001b[1;33m[\u001b[0m\u001b[0mstr\u001b[0m\u001b[1;33m.\u001b[0m\u001b[0mzfill\u001b[0m\u001b[1;33m(\u001b[0m\u001b[0mx\u001b[0m\u001b[1;33m,\u001b[0m\u001b[1;36m5\u001b[0m\u001b[1;33m)\u001b[0m \u001b[1;32mfor\u001b[0m \u001b[0mx\u001b[0m \u001b[1;32min\u001b[0m \u001b[0mzip_totalpop\u001b[0m\u001b[1;33m[\u001b[0m\u001b[1;34m'zipcode'\u001b[0m\u001b[1;33m]\u001b[0m\u001b[1;33m]\u001b[0m\u001b[1;33m\u001b[0m\u001b[0m\n\u001b[1;32m----> 3\u001b[1;33m \u001b[0mzip_geo\u001b[0m\u001b[1;33m[\u001b[0m\u001b[1;34m'ZIP'\u001b[0m\u001b[1;33m]\u001b[0m \u001b[1;33m=\u001b[0m \u001b[1;33m[\u001b[0m\u001b[0mstr\u001b[0m\u001b[1;33m.\u001b[0m\u001b[0mzfill\u001b[0m\u001b[1;33m(\u001b[0m\u001b[0mx\u001b[0m\u001b[1;33m,\u001b[0m\u001b[1;36m5\u001b[0m\u001b[1;33m)\u001b[0m \u001b[1;32mfor\u001b[0m \u001b[0mx\u001b[0m \u001b[1;32min\u001b[0m \u001b[0mzip_geo\u001b[0m\u001b[1;33m[\u001b[0m\u001b[1;34m'ZIP'\u001b[0m\u001b[1;33m]\u001b[0m\u001b[1;33m]\u001b[0m\u001b[1;33m\u001b[0m\u001b[0m\n\u001b[0m\u001b[0;32m      4\u001b[0m \u001b[0mzip_totalpop_filtered\u001b[0m \u001b[1;33m=\u001b[0m \u001b[0mzip_totalpop\u001b[0m\u001b[1;33m[\u001b[0m\u001b[1;33m[\u001b[0m\u001b[1;34m'zipcode'\u001b[0m\u001b[1;33m,\u001b[0m \u001b[1;34m'population'\u001b[0m\u001b[1;33m]\u001b[0m\u001b[1;33m]\u001b[0m\u001b[1;33m\u001b[0m\u001b[0m\n\u001b[0;32m      5\u001b[0m \u001b[1;33m\u001b[0m\u001b[0m\n",
      "\u001b[1;31mTypeError\u001b[0m: descriptor 'zfill' requires a 'str' object but received a 'int'"
     ],
     "output_type": "error"
    }
   ],
   "source": [
    "data['ZIPCODE'] = [str.zfill(x,5) for x in data['ZIPCODE']]\n",
    "zip_totalpop['zipcode'] = [str.zfill(x,5) for x in zip_totalpop['zipcode']]\n",
    "zip_geo['ZIP'] = [str.zfill(x,5) for x in zip_geo['ZIP']]\n",
    "zip_totalpop_filtered = zip_totalpop[['zipcode', 'population']]\n",
    "\n",
    "data_filtered = data.loc[data['RCPSZFE'] == 1]\n",
    "\n"
   ]
  },
  {
   "cell_type": "code",
   "execution_count": 8,
   "metadata": {},
   "outputs": [],
   "source": [
    "#filter to just NC zipcodes\n",
    "\n",
    "data_NC = data_filtered[data_filtered['GEO_TTL'].str.contains(', NC')]"
   ]
  },
  {
   "cell_type": "code",
   "execution_count": 17,
   "metadata": {},
   "outputs": [
    {
     "name": "stdout",
     "output_type": "stream",
     "text": [
      "(21081, 15)\nIndex(['GEOTYPE', 'ST', 'ZIPCODE', 'GEO_ID', 'GEO_TTL', 'FOOTID_GEO', 'SECTOR',\n       'NAICS2012', 'NAICS2012_TTL', 'FOOTID_NAICS', 'RCPSZFE', 'RCPSZFE_TTL',\n       'YEAR', 'ESTAB', 'ESTAB_F'],\n      dtype='object')\n(19838, 17)\n"
     ]
    }
   ],
   "source": [
    "print(data_NC.shape)\n",
    "print(data_NC.columns)\n",
    "\n",
    "data_pop = data_NC.merge(zip_totalpop_filtered, left_on='ZIPCODE', right_on='zipcode')\n",
    "print(data_pop.shape)"
   ]
  },
  {
   "cell_type": "code",
   "execution_count": 18,
   "metadata": {},
   "outputs": [
    {
     "name": "stdout",
     "output_type": "stream",
     "text": [
      "   GEOTYPE  ST ZIPCODE          GEO_ID              GEO_TTL  FOOTID_GEO  \\\n0       14  37   27006  8610000US27006  27006 (ADVANCE, NC)         NaN   \n1       14  37   27006  8610000US27006  27006 (ADVANCE, NC)         NaN   \n2       14  37   27006  8610000US27006  27006 (ADVANCE, NC)         NaN   \n3       14  37   27006  8610000US27006  27006 (ADVANCE, NC)         NaN   \n4       14  37   27006  8610000US27006  27006 (ADVANCE, NC)         NaN   \n5       14  37   27006  8610000US27006  27006 (ADVANCE, NC)         NaN   \n6       14  37   27006  8610000US27006  27006 (ADVANCE, NC)         NaN   \n7       14  37   27006  8610000US27006  27006 (ADVANCE, NC)         NaN   \n8       14  37   27006  8610000US27006  27006 (ADVANCE, NC)         NaN   \n9       14  37   27006  8610000US27006  27006 (ADVANCE, NC)         NaN   \n\n   SECTOR  NAICS2012                                      NAICS2012_TTL  \\\n0      62         62                  Health care and social assistance   \n1      62        621                    Ambulatory health care services   \n2      62       6211                              Offices of physicians   \n3      62      62111                              Offices of physicians   \n4      62     621111  Offices of physicians (except mental health sp...   \n5      62       6212                                Offices of dentists   \n6      62      62121                                Offices of dentists   \n7      62     621210                                Offices of dentists   \n8      62       6213              Offices of other health practitioners   \n9      62      62131                           Offices of chiropractors   \n\n   FOOTID_NAICS  RCPSZFE         RCPSZFE_TTL  YEAR  ESTAB  ESTAB_F zipcode  \\\n0           NaN        1  All establishments  2012     22      NaN   27006   \n1           NaN        1  All establishments  2012     18      NaN   27006   \n2           NaN        1  All establishments  2012      8      NaN   27006   \n3           NaN        1  All establishments  2012      8      NaN   27006   \n4           NaN        1  All establishments  2012      8      NaN   27006   \n5           NaN        1  All establishments  2012      4      NaN   27006   \n6           NaN        1  All establishments  2012      4      NaN   27006   \n7           NaN        1  All establishments  2012      4      NaN   27006   \n8           NaN        1  All establishments  2012      4      NaN   27006   \n9           NaN        1  All establishments  2012      1      NaN   27006   \n\n   population  \n0       14150  \n1       14150  \n2       14150  \n3       14150  \n4       14150  \n5       14150  \n6       14150  \n7       14150  \n8       14150  \n9       14150  \n   ZIP        LAT        LNG\n0  601  18.180555 -66.749961\n1  602  18.361945 -67.175597\n2  603  18.455183 -67.119887\n3  606  18.158345 -66.932911\n4  610  18.295366 -67.125135\n5  612  18.402253 -66.711397\n6  616  18.420412 -66.671979\n7  617  18.445147 -66.559696\n8  622  17.991245 -67.153993\n9  623  18.083361 -67.153897\n"
     ]
    }
   ],
   "source": [
    "print(data_pop.head(10))\n",
    "print(zip_geo.head(10))"
   ]
  },
  {
   "cell_type": "code",
   "execution_count": 19,
   "metadata": {},
   "outputs": [
    {
     "name": "stdout",
     "output_type": "stream",
     "text": [
      "Index(['population', 'minimum_age', 'maximum_age', 'gender', 'zipcode',\n       'geo_id'],\n      dtype='object')\nIndex(['ZIP', 'LAT', 'LNG'], dtype='object')\n"
     ]
    }
   ],
   "source": [
    "print(zip_totalpop.columns)\n",
    "print(zip_geo.columns)"
   ]
  },
  {
   "cell_type": "code",
   "execution_count": 10,
   "metadata": {},
   "outputs": [],
   "source": [
    ""
   ]
  },
  {
   "cell_type": "code",
   "execution_count": 11,
   "metadata": {},
   "outputs": [],
   "source": []
  },
  {
   "cell_type": "code",
   "execution_count": 11,
   "metadata": {},
   "outputs": [],
   "source": []
  }
 ],
 "metadata": {
  "kernelspec": {
   "display_name": "Python 2",
   "language": "python",
   "name": "python2"
  },
  "language_info": {
   "codemirror_mode": {
    "name": "ipython",
    "version": 2
   },
   "file_extension": ".py",
   "mimetype": "text/x-python",
   "name": "python",
   "nbconvert_exporter": "python",
   "pygments_lexer": "ipython2",
   "version": "2.7.6"
  }
 },
 "nbformat": 4,
 "nbformat_minor": 0
}
